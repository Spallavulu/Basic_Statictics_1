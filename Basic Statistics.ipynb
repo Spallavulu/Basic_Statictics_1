{
 "cells": [
  {
   "cell_type": "code",
   "execution_count": 94,
   "id": "e4063599",
   "metadata": {},
   "outputs": [],
   "source": [
    "import pandas as pd"
   ]
  },
  {
   "cell_type": "code",
   "execution_count": 95,
   "id": "8a9dd3ff",
   "metadata": {},
   "outputs": [
    {
     "data": {
      "text/html": [
       "<div>\n",
       "<style scoped>\n",
       "    .dataframe tbody tr th:only-of-type {\n",
       "        vertical-align: middle;\n",
       "    }\n",
       "\n",
       "    .dataframe tbody tr th {\n",
       "        vertical-align: top;\n",
       "    }\n",
       "\n",
       "    .dataframe thead th {\n",
       "        text-align: right;\n",
       "    }\n",
       "</style>\n",
       "<table border=\"1\" class=\"dataframe\">\n",
       "  <thead>\n",
       "    <tr style=\"text-align: right;\">\n",
       "      <th></th>\n",
       "      <th>Date</th>\n",
       "      <th>Day</th>\n",
       "      <th>SKU</th>\n",
       "      <th>City</th>\n",
       "      <th>Volume</th>\n",
       "      <th>BU</th>\n",
       "      <th>Brand</th>\n",
       "      <th>Model</th>\n",
       "      <th>Avg Price</th>\n",
       "      <th>Total Sales Value</th>\n",
       "      <th>Discount Rate (%)</th>\n",
       "      <th>Discount Amount</th>\n",
       "      <th>Net Sales Value</th>\n",
       "    </tr>\n",
       "  </thead>\n",
       "  <tbody>\n",
       "    <tr>\n",
       "      <th>0</th>\n",
       "      <td>01-04-2021</td>\n",
       "      <td>Thursday</td>\n",
       "      <td>M01</td>\n",
       "      <td>C</td>\n",
       "      <td>15</td>\n",
       "      <td>Mobiles</td>\n",
       "      <td>RealU</td>\n",
       "      <td>RU-10</td>\n",
       "      <td>12100</td>\n",
       "      <td>181500</td>\n",
       "      <td>11.654820</td>\n",
       "      <td>21153.498820</td>\n",
       "      <td>160346.501180</td>\n",
       "    </tr>\n",
       "    <tr>\n",
       "      <th>1</th>\n",
       "      <td>01-04-2021</td>\n",
       "      <td>Thursday</td>\n",
       "      <td>M02</td>\n",
       "      <td>C</td>\n",
       "      <td>10</td>\n",
       "      <td>Mobiles</td>\n",
       "      <td>RealU</td>\n",
       "      <td>RU-9 Plus</td>\n",
       "      <td>10100</td>\n",
       "      <td>101000</td>\n",
       "      <td>11.560498</td>\n",
       "      <td>11676.102961</td>\n",
       "      <td>89323.897039</td>\n",
       "    </tr>\n",
       "    <tr>\n",
       "      <th>2</th>\n",
       "      <td>01-04-2021</td>\n",
       "      <td>Thursday</td>\n",
       "      <td>M03</td>\n",
       "      <td>C</td>\n",
       "      <td>7</td>\n",
       "      <td>Mobiles</td>\n",
       "      <td>YouM</td>\n",
       "      <td>YM-99</td>\n",
       "      <td>16100</td>\n",
       "      <td>112700</td>\n",
       "      <td>9.456886</td>\n",
       "      <td>10657.910157</td>\n",
       "      <td>102042.089843</td>\n",
       "    </tr>\n",
       "    <tr>\n",
       "      <th>3</th>\n",
       "      <td>01-04-2021</td>\n",
       "      <td>Thursday</td>\n",
       "      <td>M04</td>\n",
       "      <td>C</td>\n",
       "      <td>6</td>\n",
       "      <td>Mobiles</td>\n",
       "      <td>YouM</td>\n",
       "      <td>YM-99 Plus</td>\n",
       "      <td>20100</td>\n",
       "      <td>120600</td>\n",
       "      <td>6.935385</td>\n",
       "      <td>8364.074702</td>\n",
       "      <td>112235.925298</td>\n",
       "    </tr>\n",
       "    <tr>\n",
       "      <th>4</th>\n",
       "      <td>01-04-2021</td>\n",
       "      <td>Thursday</td>\n",
       "      <td>M05</td>\n",
       "      <td>C</td>\n",
       "      <td>3</td>\n",
       "      <td>Mobiles</td>\n",
       "      <td>YouM</td>\n",
       "      <td>YM-98</td>\n",
       "      <td>8100</td>\n",
       "      <td>24300</td>\n",
       "      <td>17.995663</td>\n",
       "      <td>4372.946230</td>\n",
       "      <td>19927.053770</td>\n",
       "    </tr>\n",
       "    <tr>\n",
       "      <th>...</th>\n",
       "      <td>...</td>\n",
       "      <td>...</td>\n",
       "      <td>...</td>\n",
       "      <td>...</td>\n",
       "      <td>...</td>\n",
       "      <td>...</td>\n",
       "      <td>...</td>\n",
       "      <td>...</td>\n",
       "      <td>...</td>\n",
       "      <td>...</td>\n",
       "      <td>...</td>\n",
       "      <td>...</td>\n",
       "      <td>...</td>\n",
       "    </tr>\n",
       "    <tr>\n",
       "      <th>445</th>\n",
       "      <td>15-04-2021</td>\n",
       "      <td>Thursday</td>\n",
       "      <td>L06</td>\n",
       "      <td>C</td>\n",
       "      <td>2</td>\n",
       "      <td>Lifestyle</td>\n",
       "      <td>Jeera</td>\n",
       "      <td>M-Casuals</td>\n",
       "      <td>1300</td>\n",
       "      <td>2600</td>\n",
       "      <td>15.475687</td>\n",
       "      <td>402.367873</td>\n",
       "      <td>2197.632127</td>\n",
       "    </tr>\n",
       "    <tr>\n",
       "      <th>446</th>\n",
       "      <td>15-04-2021</td>\n",
       "      <td>Thursday</td>\n",
       "      <td>L07</td>\n",
       "      <td>C</td>\n",
       "      <td>6</td>\n",
       "      <td>Lifestyle</td>\n",
       "      <td>Viva</td>\n",
       "      <td>W-Western</td>\n",
       "      <td>2600</td>\n",
       "      <td>15600</td>\n",
       "      <td>17.057027</td>\n",
       "      <td>2660.896242</td>\n",
       "      <td>12939.103758</td>\n",
       "    </tr>\n",
       "    <tr>\n",
       "      <th>447</th>\n",
       "      <td>15-04-2021</td>\n",
       "      <td>Thursday</td>\n",
       "      <td>L08</td>\n",
       "      <td>C</td>\n",
       "      <td>2</td>\n",
       "      <td>Lifestyle</td>\n",
       "      <td>Viva</td>\n",
       "      <td>W-Lounge</td>\n",
       "      <td>1600</td>\n",
       "      <td>3200</td>\n",
       "      <td>18.965550</td>\n",
       "      <td>606.897606</td>\n",
       "      <td>2593.102394</td>\n",
       "    </tr>\n",
       "    <tr>\n",
       "      <th>448</th>\n",
       "      <td>15-04-2021</td>\n",
       "      <td>Thursday</td>\n",
       "      <td>L09</td>\n",
       "      <td>C</td>\n",
       "      <td>3</td>\n",
       "      <td>Lifestyle</td>\n",
       "      <td>Jeera</td>\n",
       "      <td>M-Formals</td>\n",
       "      <td>1900</td>\n",
       "      <td>5700</td>\n",
       "      <td>16.793014</td>\n",
       "      <td>957.201826</td>\n",
       "      <td>4742.798174</td>\n",
       "    </tr>\n",
       "    <tr>\n",
       "      <th>449</th>\n",
       "      <td>15-04-2021</td>\n",
       "      <td>Thursday</td>\n",
       "      <td>L10</td>\n",
       "      <td>C</td>\n",
       "      <td>1</td>\n",
       "      <td>Lifestyle</td>\n",
       "      <td>Jeera</td>\n",
       "      <td>M-Shoes</td>\n",
       "      <td>3100</td>\n",
       "      <td>3100</td>\n",
       "      <td>15.333300</td>\n",
       "      <td>475.332295</td>\n",
       "      <td>2624.667705</td>\n",
       "    </tr>\n",
       "  </tbody>\n",
       "</table>\n",
       "<p>450 rows × 13 columns</p>\n",
       "</div>"
      ],
      "text/plain": [
       "           Date       Day  SKU City  Volume         BU  Brand       Model  \\\n",
       "0    01-04-2021  Thursday  M01    C      15    Mobiles  RealU       RU-10   \n",
       "1    01-04-2021  Thursday  M02    C      10    Mobiles  RealU   RU-9 Plus   \n",
       "2    01-04-2021  Thursday  M03    C       7    Mobiles   YouM       YM-99   \n",
       "3    01-04-2021  Thursday  M04    C       6    Mobiles   YouM  YM-99 Plus   \n",
       "4    01-04-2021  Thursday  M05    C       3    Mobiles   YouM      YM-98    \n",
       "..          ...       ...  ...  ...     ...        ...    ...         ...   \n",
       "445  15-04-2021  Thursday  L06    C       2  Lifestyle  Jeera   M-Casuals   \n",
       "446  15-04-2021  Thursday  L07    C       6  Lifestyle   Viva   W-Western   \n",
       "447  15-04-2021  Thursday  L08    C       2  Lifestyle   Viva    W-Lounge   \n",
       "448  15-04-2021  Thursday  L09    C       3  Lifestyle  Jeera   M-Formals   \n",
       "449  15-04-2021  Thursday  L10    C       1  Lifestyle  Jeera     M-Shoes   \n",
       "\n",
       "     Avg Price  Total Sales Value  Discount Rate (%)  Discount Amount  \\\n",
       "0        12100             181500          11.654820     21153.498820   \n",
       "1        10100             101000          11.560498     11676.102961   \n",
       "2        16100             112700           9.456886     10657.910157   \n",
       "3        20100             120600           6.935385      8364.074702   \n",
       "4         8100              24300          17.995663      4372.946230   \n",
       "..         ...                ...                ...              ...   \n",
       "445       1300               2600          15.475687       402.367873   \n",
       "446       2600              15600          17.057027      2660.896242   \n",
       "447       1600               3200          18.965550       606.897606   \n",
       "448       1900               5700          16.793014       957.201826   \n",
       "449       3100               3100          15.333300       475.332295   \n",
       "\n",
       "     Net Sales Value  \n",
       "0      160346.501180  \n",
       "1       89323.897039  \n",
       "2      102042.089843  \n",
       "3      112235.925298  \n",
       "4       19927.053770  \n",
       "..               ...  \n",
       "445      2197.632127  \n",
       "446     12939.103758  \n",
       "447      2593.102394  \n",
       "448      4742.798174  \n",
       "449      2624.667705  \n",
       "\n",
       "[450 rows x 13 columns]"
      ]
     },
     "execution_count": 95,
     "metadata": {},
     "output_type": "execute_result"
    }
   ],
   "source": [
    "#importing the dataset\n",
    "df = pd.read_csv(\"sales_data_with_discounts.csv\")\n",
    "df"
   ]
  },
  {
   "cell_type": "code",
   "execution_count": 96,
   "id": "a11701ad",
   "metadata": {},
   "outputs": [
    {
     "name": "stdout",
     "output_type": "stream",
     "text": [
      "<class 'pandas.core.frame.DataFrame'>\n",
      "RangeIndex: 450 entries, 0 to 449\n",
      "Data columns (total 13 columns):\n",
      " #   Column             Non-Null Count  Dtype  \n",
      "---  ------             --------------  -----  \n",
      " 0   Date               450 non-null    object \n",
      " 1   Day                450 non-null    object \n",
      " 2   SKU                450 non-null    object \n",
      " 3   City               450 non-null    object \n",
      " 4   Volume             450 non-null    int64  \n",
      " 5   BU                 450 non-null    object \n",
      " 6   Brand              450 non-null    object \n",
      " 7   Model              450 non-null    object \n",
      " 8   Avg Price          450 non-null    int64  \n",
      " 9   Total Sales Value  450 non-null    int64  \n",
      " 10  Discount Rate (%)  450 non-null    float64\n",
      " 11  Discount Amount    450 non-null    float64\n",
      " 12  Net Sales Value    450 non-null    float64\n",
      "dtypes: float64(3), int64(3), object(7)\n",
      "memory usage: 45.8+ KB\n"
     ]
    }
   ],
   "source": [
    "#checking for missing values\n",
    "df.info()"
   ]
  },
  {
   "cell_type": "code",
   "execution_count": 97,
   "id": "80ef4c56",
   "metadata": {},
   "outputs": [
    {
     "data": {
      "text/plain": [
       "Index(['Date', 'Day', 'SKU', 'City', 'Volume', 'BU', 'Brand', 'Model',\n",
       "       'Avg Price', 'Total Sales Value', 'Discount Rate (%)',\n",
       "       'Discount Amount', 'Net Sales Value'],\n",
       "      dtype='object')"
      ]
     },
     "execution_count": 97,
     "metadata": {},
     "output_type": "execute_result"
    }
   ],
   "source": [
    "df.columns"
   ]
  },
  {
   "cell_type": "code",
   "execution_count": 98,
   "id": "4b961619",
   "metadata": {},
   "outputs": [
    {
     "data": {
      "text/html": [
       "<div>\n",
       "<style scoped>\n",
       "    .dataframe tbody tr th:only-of-type {\n",
       "        vertical-align: middle;\n",
       "    }\n",
       "\n",
       "    .dataframe tbody tr th {\n",
       "        vertical-align: top;\n",
       "    }\n",
       "\n",
       "    .dataframe thead th {\n",
       "        text-align: right;\n",
       "    }\n",
       "</style>\n",
       "<table border=\"1\" class=\"dataframe\">\n",
       "  <thead>\n",
       "    <tr style=\"text-align: right;\">\n",
       "      <th></th>\n",
       "      <th>Avg Price</th>\n",
       "      <th>Total Sales Value</th>\n",
       "      <th>Discount Rate (%)</th>\n",
       "      <th>Discount Amount</th>\n",
       "      <th>Net Sales Value</th>\n",
       "    </tr>\n",
       "  </thead>\n",
       "  <tbody>\n",
       "    <tr>\n",
       "      <th>0</th>\n",
       "      <td>12100</td>\n",
       "      <td>181500</td>\n",
       "      <td>11.654820</td>\n",
       "      <td>21153.498820</td>\n",
       "      <td>160346.501180</td>\n",
       "    </tr>\n",
       "    <tr>\n",
       "      <th>1</th>\n",
       "      <td>10100</td>\n",
       "      <td>101000</td>\n",
       "      <td>11.560498</td>\n",
       "      <td>11676.102961</td>\n",
       "      <td>89323.897039</td>\n",
       "    </tr>\n",
       "    <tr>\n",
       "      <th>2</th>\n",
       "      <td>16100</td>\n",
       "      <td>112700</td>\n",
       "      <td>9.456886</td>\n",
       "      <td>10657.910157</td>\n",
       "      <td>102042.089843</td>\n",
       "    </tr>\n",
       "    <tr>\n",
       "      <th>3</th>\n",
       "      <td>20100</td>\n",
       "      <td>120600</td>\n",
       "      <td>6.935385</td>\n",
       "      <td>8364.074702</td>\n",
       "      <td>112235.925298</td>\n",
       "    </tr>\n",
       "    <tr>\n",
       "      <th>4</th>\n",
       "      <td>8100</td>\n",
       "      <td>24300</td>\n",
       "      <td>17.995663</td>\n",
       "      <td>4372.946230</td>\n",
       "      <td>19927.053770</td>\n",
       "    </tr>\n",
       "    <tr>\n",
       "      <th>...</th>\n",
       "      <td>...</td>\n",
       "      <td>...</td>\n",
       "      <td>...</td>\n",
       "      <td>...</td>\n",
       "      <td>...</td>\n",
       "    </tr>\n",
       "    <tr>\n",
       "      <th>445</th>\n",
       "      <td>1300</td>\n",
       "      <td>2600</td>\n",
       "      <td>15.475687</td>\n",
       "      <td>402.367873</td>\n",
       "      <td>2197.632127</td>\n",
       "    </tr>\n",
       "    <tr>\n",
       "      <th>446</th>\n",
       "      <td>2600</td>\n",
       "      <td>15600</td>\n",
       "      <td>17.057027</td>\n",
       "      <td>2660.896242</td>\n",
       "      <td>12939.103758</td>\n",
       "    </tr>\n",
       "    <tr>\n",
       "      <th>447</th>\n",
       "      <td>1600</td>\n",
       "      <td>3200</td>\n",
       "      <td>18.965550</td>\n",
       "      <td>606.897606</td>\n",
       "      <td>2593.102394</td>\n",
       "    </tr>\n",
       "    <tr>\n",
       "      <th>448</th>\n",
       "      <td>1900</td>\n",
       "      <td>5700</td>\n",
       "      <td>16.793014</td>\n",
       "      <td>957.201826</td>\n",
       "      <td>4742.798174</td>\n",
       "    </tr>\n",
       "    <tr>\n",
       "      <th>449</th>\n",
       "      <td>3100</td>\n",
       "      <td>3100</td>\n",
       "      <td>15.333300</td>\n",
       "      <td>475.332295</td>\n",
       "      <td>2624.667705</td>\n",
       "    </tr>\n",
       "  </tbody>\n",
       "</table>\n",
       "<p>450 rows × 5 columns</p>\n",
       "</div>"
      ],
      "text/plain": [
       "     Avg Price  Total Sales Value  Discount Rate (%)  Discount Amount  \\\n",
       "0        12100             181500          11.654820     21153.498820   \n",
       "1        10100             101000          11.560498     11676.102961   \n",
       "2        16100             112700           9.456886     10657.910157   \n",
       "3        20100             120600           6.935385      8364.074702   \n",
       "4         8100              24300          17.995663      4372.946230   \n",
       "..         ...                ...                ...              ...   \n",
       "445       1300               2600          15.475687       402.367873   \n",
       "446       2600              15600          17.057027      2660.896242   \n",
       "447       1600               3200          18.965550       606.897606   \n",
       "448       1900               5700          16.793014       957.201826   \n",
       "449       3100               3100          15.333300       475.332295   \n",
       "\n",
       "     Net Sales Value  \n",
       "0      160346.501180  \n",
       "1       89323.897039  \n",
       "2      102042.089843  \n",
       "3      112235.925298  \n",
       "4       19927.053770  \n",
       "..               ...  \n",
       "445      2197.632127  \n",
       "446     12939.103758  \n",
       "447      2593.102394  \n",
       "448      4742.798174  \n",
       "449      2624.667705  \n",
       "\n",
       "[450 rows x 5 columns]"
      ]
     },
     "execution_count": 98,
     "metadata": {},
     "output_type": "execute_result"
    }
   ],
   "source": [
    "df_num = df.select_dtypes(include = ['int64','float64'])\n",
    "df_num = df_num.iloc[:,1:]\n",
    "df_num"
   ]
  },
  {
   "cell_type": "code",
   "execution_count": 99,
   "id": "f4179c1e",
   "metadata": {},
   "outputs": [
    {
     "data": {
      "text/html": [
       "<div>\n",
       "<style scoped>\n",
       "    .dataframe tbody tr th:only-of-type {\n",
       "        vertical-align: middle;\n",
       "    }\n",
       "\n",
       "    .dataframe tbody tr th {\n",
       "        vertical-align: top;\n",
       "    }\n",
       "\n",
       "    .dataframe thead th {\n",
       "        text-align: right;\n",
       "    }\n",
       "</style>\n",
       "<table border=\"1\" class=\"dataframe\">\n",
       "  <thead>\n",
       "    <tr style=\"text-align: right;\">\n",
       "      <th></th>\n",
       "      <th>Date</th>\n",
       "      <th>Day</th>\n",
       "      <th>SKU</th>\n",
       "      <th>City</th>\n",
       "      <th>BU</th>\n",
       "      <th>Brand</th>\n",
       "      <th>Model</th>\n",
       "    </tr>\n",
       "  </thead>\n",
       "  <tbody>\n",
       "    <tr>\n",
       "      <th>0</th>\n",
       "      <td>01-04-2021</td>\n",
       "      <td>Thursday</td>\n",
       "      <td>M01</td>\n",
       "      <td>C</td>\n",
       "      <td>Mobiles</td>\n",
       "      <td>RealU</td>\n",
       "      <td>RU-10</td>\n",
       "    </tr>\n",
       "    <tr>\n",
       "      <th>1</th>\n",
       "      <td>01-04-2021</td>\n",
       "      <td>Thursday</td>\n",
       "      <td>M02</td>\n",
       "      <td>C</td>\n",
       "      <td>Mobiles</td>\n",
       "      <td>RealU</td>\n",
       "      <td>RU-9 Plus</td>\n",
       "    </tr>\n",
       "    <tr>\n",
       "      <th>2</th>\n",
       "      <td>01-04-2021</td>\n",
       "      <td>Thursday</td>\n",
       "      <td>M03</td>\n",
       "      <td>C</td>\n",
       "      <td>Mobiles</td>\n",
       "      <td>YouM</td>\n",
       "      <td>YM-99</td>\n",
       "    </tr>\n",
       "    <tr>\n",
       "      <th>3</th>\n",
       "      <td>01-04-2021</td>\n",
       "      <td>Thursday</td>\n",
       "      <td>M04</td>\n",
       "      <td>C</td>\n",
       "      <td>Mobiles</td>\n",
       "      <td>YouM</td>\n",
       "      <td>YM-99 Plus</td>\n",
       "    </tr>\n",
       "    <tr>\n",
       "      <th>4</th>\n",
       "      <td>01-04-2021</td>\n",
       "      <td>Thursday</td>\n",
       "      <td>M05</td>\n",
       "      <td>C</td>\n",
       "      <td>Mobiles</td>\n",
       "      <td>YouM</td>\n",
       "      <td>YM-98</td>\n",
       "    </tr>\n",
       "    <tr>\n",
       "      <th>...</th>\n",
       "      <td>...</td>\n",
       "      <td>...</td>\n",
       "      <td>...</td>\n",
       "      <td>...</td>\n",
       "      <td>...</td>\n",
       "      <td>...</td>\n",
       "      <td>...</td>\n",
       "    </tr>\n",
       "    <tr>\n",
       "      <th>445</th>\n",
       "      <td>15-04-2021</td>\n",
       "      <td>Thursday</td>\n",
       "      <td>L06</td>\n",
       "      <td>C</td>\n",
       "      <td>Lifestyle</td>\n",
       "      <td>Jeera</td>\n",
       "      <td>M-Casuals</td>\n",
       "    </tr>\n",
       "    <tr>\n",
       "      <th>446</th>\n",
       "      <td>15-04-2021</td>\n",
       "      <td>Thursday</td>\n",
       "      <td>L07</td>\n",
       "      <td>C</td>\n",
       "      <td>Lifestyle</td>\n",
       "      <td>Viva</td>\n",
       "      <td>W-Western</td>\n",
       "    </tr>\n",
       "    <tr>\n",
       "      <th>447</th>\n",
       "      <td>15-04-2021</td>\n",
       "      <td>Thursday</td>\n",
       "      <td>L08</td>\n",
       "      <td>C</td>\n",
       "      <td>Lifestyle</td>\n",
       "      <td>Viva</td>\n",
       "      <td>W-Lounge</td>\n",
       "    </tr>\n",
       "    <tr>\n",
       "      <th>448</th>\n",
       "      <td>15-04-2021</td>\n",
       "      <td>Thursday</td>\n",
       "      <td>L09</td>\n",
       "      <td>C</td>\n",
       "      <td>Lifestyle</td>\n",
       "      <td>Jeera</td>\n",
       "      <td>M-Formals</td>\n",
       "    </tr>\n",
       "    <tr>\n",
       "      <th>449</th>\n",
       "      <td>15-04-2021</td>\n",
       "      <td>Thursday</td>\n",
       "      <td>L10</td>\n",
       "      <td>C</td>\n",
       "      <td>Lifestyle</td>\n",
       "      <td>Jeera</td>\n",
       "      <td>M-Shoes</td>\n",
       "    </tr>\n",
       "  </tbody>\n",
       "</table>\n",
       "<p>450 rows × 7 columns</p>\n",
       "</div>"
      ],
      "text/plain": [
       "           Date       Day  SKU City         BU  Brand       Model\n",
       "0    01-04-2021  Thursday  M01    C    Mobiles  RealU       RU-10\n",
       "1    01-04-2021  Thursday  M02    C    Mobiles  RealU   RU-9 Plus\n",
       "2    01-04-2021  Thursday  M03    C    Mobiles   YouM       YM-99\n",
       "3    01-04-2021  Thursday  M04    C    Mobiles   YouM  YM-99 Plus\n",
       "4    01-04-2021  Thursday  M05    C    Mobiles   YouM      YM-98 \n",
       "..          ...       ...  ...  ...        ...    ...         ...\n",
       "445  15-04-2021  Thursday  L06    C  Lifestyle  Jeera   M-Casuals\n",
       "446  15-04-2021  Thursday  L07    C  Lifestyle   Viva   W-Western\n",
       "447  15-04-2021  Thursday  L08    C  Lifestyle   Viva    W-Lounge\n",
       "448  15-04-2021  Thursday  L09    C  Lifestyle  Jeera   M-Formals\n",
       "449  15-04-2021  Thursday  L10    C  Lifestyle  Jeera     M-Shoes\n",
       "\n",
       "[450 rows x 7 columns]"
      ]
     },
     "execution_count": 99,
     "metadata": {},
     "output_type": "execute_result"
    }
   ],
   "source": [
    "df_cat = df.select_dtypes(include=['object'])\n",
    "df_cat"
   ]
  },
  {
   "cell_type": "code",
   "execution_count": 100,
   "id": "2cd7854e",
   "metadata": {
    "scrolled": true
   },
   "outputs": [
    {
     "data": {
      "text/html": [
       "<div>\n",
       "<style scoped>\n",
       "    .dataframe tbody tr th:only-of-type {\n",
       "        vertical-align: middle;\n",
       "    }\n",
       "\n",
       "    .dataframe tbody tr th {\n",
       "        vertical-align: top;\n",
       "    }\n",
       "\n",
       "    .dataframe thead th {\n",
       "        text-align: right;\n",
       "    }\n",
       "</style>\n",
       "<table border=\"1\" class=\"dataframe\">\n",
       "  <thead>\n",
       "    <tr style=\"text-align: right;\">\n",
       "      <th></th>\n",
       "      <th>Avg Price</th>\n",
       "      <th>Total Sales Value</th>\n",
       "      <th>Discount Rate (%)</th>\n",
       "      <th>Discount Amount</th>\n",
       "      <th>Net Sales Value</th>\n",
       "    </tr>\n",
       "  </thead>\n",
       "  <tbody>\n",
       "    <tr>\n",
       "      <th>count</th>\n",
       "      <td>450.000000</td>\n",
       "      <td>450.000000</td>\n",
       "      <td>450.000000</td>\n",
       "      <td>450.000000</td>\n",
       "      <td>450.000000</td>\n",
       "    </tr>\n",
       "    <tr>\n",
       "      <th>mean</th>\n",
       "      <td>10453.433333</td>\n",
       "      <td>33812.835556</td>\n",
       "      <td>15.155242</td>\n",
       "      <td>3346.499424</td>\n",
       "      <td>30466.336131</td>\n",
       "    </tr>\n",
       "    <tr>\n",
       "      <th>std</th>\n",
       "      <td>18079.904840</td>\n",
       "      <td>50535.074173</td>\n",
       "      <td>4.220602</td>\n",
       "      <td>4509.902963</td>\n",
       "      <td>46358.656624</td>\n",
       "    </tr>\n",
       "    <tr>\n",
       "      <th>min</th>\n",
       "      <td>290.000000</td>\n",
       "      <td>400.000000</td>\n",
       "      <td>5.007822</td>\n",
       "      <td>69.177942</td>\n",
       "      <td>326.974801</td>\n",
       "    </tr>\n",
       "    <tr>\n",
       "      <th>25%</th>\n",
       "      <td>465.000000</td>\n",
       "      <td>2700.000000</td>\n",
       "      <td>13.965063</td>\n",
       "      <td>460.459304</td>\n",
       "      <td>2202.208645</td>\n",
       "    </tr>\n",
       "    <tr>\n",
       "      <th>50%</th>\n",
       "      <td>1450.000000</td>\n",
       "      <td>5700.000000</td>\n",
       "      <td>16.577766</td>\n",
       "      <td>988.933733</td>\n",
       "      <td>4677.788059</td>\n",
       "    </tr>\n",
       "    <tr>\n",
       "      <th>75%</th>\n",
       "      <td>10100.000000</td>\n",
       "      <td>53200.000000</td>\n",
       "      <td>18.114718</td>\n",
       "      <td>5316.495427</td>\n",
       "      <td>47847.912852</td>\n",
       "    </tr>\n",
       "    <tr>\n",
       "      <th>max</th>\n",
       "      <td>60100.000000</td>\n",
       "      <td>196400.000000</td>\n",
       "      <td>19.992407</td>\n",
       "      <td>25738.022194</td>\n",
       "      <td>179507.479049</td>\n",
       "    </tr>\n",
       "  </tbody>\n",
       "</table>\n",
       "</div>"
      ],
      "text/plain": [
       "          Avg Price  Total Sales Value  Discount Rate (%)  Discount Amount  \\\n",
       "count    450.000000         450.000000         450.000000       450.000000   \n",
       "mean   10453.433333       33812.835556          15.155242      3346.499424   \n",
       "std    18079.904840       50535.074173           4.220602      4509.902963   \n",
       "min      290.000000         400.000000           5.007822        69.177942   \n",
       "25%      465.000000        2700.000000          13.965063       460.459304   \n",
       "50%     1450.000000        5700.000000          16.577766       988.933733   \n",
       "75%    10100.000000       53200.000000          18.114718      5316.495427   \n",
       "max    60100.000000      196400.000000          19.992407     25738.022194   \n",
       "\n",
       "       Net Sales Value  \n",
       "count       450.000000  \n",
       "mean      30466.336131  \n",
       "std       46358.656624  \n",
       "min         326.974801  \n",
       "25%        2202.208645  \n",
       "50%        4677.788059  \n",
       "75%       47847.912852  \n",
       "max      179507.479049  "
      ]
     },
     "execution_count": 100,
     "metadata": {},
     "output_type": "execute_result"
    }
   ],
   "source": [
    "df_num.describe()"
   ]
  },
  {
   "cell_type": "code",
   "execution_count": 101,
   "id": "4b688eae",
   "metadata": {
    "scrolled": false
   },
   "outputs": [
    {
     "name": "stdout",
     "output_type": "stream",
     "text": [
      "Average: 10453.433333333332\n",
      "Median: 1450.0\n",
      "Standard Deviation: 18079.90483993645\n"
     ]
    }
   ],
   "source": [
    "print(\"Average:\",df['Avg Price'].mean())\n",
    "print(\"Median:\",df['Avg Price'].median())\n",
    "print(\"Standard Deviation:\",df['Avg Price'].std())"
   ]
  },
  {
   "cell_type": "code",
   "execution_count": 102,
   "id": "d8348e0f",
   "metadata": {},
   "outputs": [
    {
     "name": "stdout",
     "output_type": "stream",
     "text": [
      "Average: 33812.83555555555\n",
      "Median: 5700.0\n",
      "Standard Deviation: 50535.07417255328\n"
     ]
    }
   ],
   "source": [
    "print(\"Average:\",df['Total Sales Value'].mean())\n",
    "print(\"Median:\",df['Total Sales Value'].median())\n",
    "print(\"Standard Deviation:\",df['Total Sales Value'].std())"
   ]
  },
  {
   "cell_type": "code",
   "execution_count": 103,
   "id": "ccbd0692",
   "metadata": {},
   "outputs": [
    {
     "name": "stdout",
     "output_type": "stream",
     "text": [
      "Average: 15.155241895330914\n",
      "Median: 16.57776564929597\n",
      "Standard Deviation: 4.220602153325511\n"
     ]
    }
   ],
   "source": [
    "print(\"Average:\",df['Discount Rate (%)'].mean())\n",
    "print(\"Median:\",df['Discount Rate (%)'].median())\n",
    "print(\"Standard Deviation:\",df['Discount Rate (%)'].std())"
   ]
  },
  {
   "cell_type": "code",
   "execution_count": 104,
   "id": "3a99e235",
   "metadata": {},
   "outputs": [
    {
     "name": "stdout",
     "output_type": "stream",
     "text": [
      "Average: 3346.499424342415\n",
      "Median: 988.9337332382784\n",
      "Standard Deviation: 4509.9029633539985\n"
     ]
    }
   ],
   "source": [
    "print(\"Average:\",df['Discount Amount'].mean())\n",
    "print(\"Median:\",df['Discount Amount'].median())\n",
    "print(\"Standard Deviation:\",df['Discount Amount'].std())"
   ]
  },
  {
   "cell_type": "code",
   "execution_count": 105,
   "id": "05a8849c",
   "metadata": {},
   "outputs": [
    {
     "name": "stdout",
     "output_type": "stream",
     "text": [
      "Average: 30466.336131270138\n",
      "Median: 4677.788059301853\n",
      "Standard Deviation: 46358.656624066934\n"
     ]
    }
   ],
   "source": [
    "print(\"Average:\",df['Net Sales Value'].mean())\n",
    "print(\"Median:\",df['Net Sales Value'].median())\n",
    "print(\"Standard Deviation:\",df['Net Sales Value'].std())"
   ]
  },
  {
   "cell_type": "code",
   "execution_count": 106,
   "id": "4fc50c24",
   "metadata": {},
   "outputs": [
    {
     "name": "stdout",
     "output_type": "stream",
     "text": [
      "skewness: 1.9088730767759727\n"
     ]
    },
    {
     "data": {
      "image/png": "[encoded data removed]",
      "text/plain": [
       "<Figure size 640x480 with 1 Axes>"
      ]
     },
     "metadata": {},
     "output_type": "display_data"
    }
   ],
   "source": [
    "#Histogram for each numerical column\n",
    "#Avg Price\n",
    "df['Avg Price'].hist()\n",
    "print('skewness:', df['Avg Price'].skew())\n"
   ]
  },
  {
   "cell_type": "code",
   "execution_count": 107,
   "id": "2c098b02",
   "metadata": {},
   "outputs": [
    {
     "name": "stdout",
     "output_type": "stream",
     "text": [
      "skewness: 1.5347293238977937\n"
     ]
    },
    {
     "data": {
      "image/png": "[encoded data removed]",
      "text/plain": [
       "<Figure size 640x480 with 1 Axes>"
      ]
     },
     "metadata": {},
     "output_type": "display_data"
    }
   ],
   "source": [
    "#Histogram for Total Sales Value\n",
    "df['Total Sales Value'].hist()\n",
    "print('skewness:', df['Total Sales Value'].skew())"
   ]
  },
  {
   "cell_type": "code",
   "execution_count": 108,
   "id": "87b79f6c",
   "metadata": {},
   "outputs": [
    {
     "name": "stdout",
     "output_type": "stream",
     "text": [
      "skewness: -1.0622943696988825\n"
     ]
    },
    {
     "data": {
      "image/png": "[encoded data removed]",
      "text/plain": [
       "<Figure size 640x480 with 1 Axes>"
      ]
     },
     "metadata": {},
     "output_type": "display_data"
    }
   ],
   "source": [
    "#Histogram for Discount Rate (%)\n",
    "df['Discount Rate (%)'].hist()\n",
    "print('skewness:', df['Discount Rate (%)'].skew())"
   ]
  },
  {
   "cell_type": "code",
   "execution_count": 109,
   "id": "0c56d5dc",
   "metadata": {},
   "outputs": [
    {
     "name": "stdout",
     "output_type": "stream",
     "text": [
      "skewness: 1.9130377339538271\n"
     ]
    },
    {
     "data": {
      "image/png": "[encoded data removed]",
      "text/plain": [
       "<Figure size 640x480 with 1 Axes>"
      ]
     },
     "metadata": {},
     "output_type": "display_data"
    }
   ],
   "source": [
    "#Histogram for Discount Amount\n",
    "df['Discount Amount'].hist()\n",
    "print('skewness:', df['Discount Amount'].skew())"
   ]
  },
  {
   "cell_type": "code",
   "execution_count": 110,
   "id": "6299f097",
   "metadata": {},
   "outputs": [
    {
     "name": "stdout",
     "output_type": "stream",
     "text": [
      "skewness: 1.5408217575344376\n"
     ]
    },
    {
     "data": {
      "image/png": "[encoded data removed]",
      "text/plain": [
       "<Figure size 640x480 with 1 Axes>"
      ]
     },
     "metadata": {},
     "output_type": "display_data"
    }
   ],
   "source": [
    "# Histogram for Net Sales Value\n",
    "df['Net Sales Value'].hist()\n",
    "print('skewness:',df['Net Sales Value'].skew())"
   ]
  },
  {
   "cell_type": "code",
   "execution_count": 111,
   "id": "2a7068c8",
   "metadata": {},
   "outputs": [
    {
     "data": {
      "image/png": "[encoded data removed]",
      "text/plain": [
       "<Figure size 640x480 with 1 Axes>"
      ]
     },
     "metadata": {},
     "output_type": "display_data"
    }
   ],
   "source": [
    "#Boxplot for numerical Variables\n",
    "import matplotlib.pyplot as plt\n",
    "plt.boxplot(df['Avg Price'],vert=False)\n",
    "plt.show()"
   ]
  },
  {
   "cell_type": "code",
   "execution_count": 112,
   "id": "1ac0507b",
   "metadata": {},
   "outputs": [
    {
     "data": {
      "image/png": "[encoded data removed]",
      "text/plain": [
       "<Figure size 640x480 with 1 Axes>"
      ]
     },
     "metadata": {},
     "output_type": "display_data"
    }
   ],
   "source": [
    "import matplotlib.pyplot as plt\n",
    "plt.boxplot(df['Total Sales Value'],vert=False)\n",
    "plt.show()"
   ]
  },
  {
   "cell_type": "code",
   "execution_count": 113,
   "id": "84506ea0",
   "metadata": {},
   "outputs": [
    {
     "data": {
      "image/png": "[encoded data removed]",
      "text/plain": [
       "<Figure size 640x480 with 1 Axes>"
      ]
     },
     "metadata": {},
     "output_type": "display_data"
    }
   ],
   "source": [
    "import matplotlib.pyplot as plt\n",
    "plt.boxplot(df['Discount Rate (%)'],vert=False)\n",
    "plt.show()"
   ]
  },
  {
   "cell_type": "code",
   "execution_count": 114,
   "id": "d60799ec",
   "metadata": {},
   "outputs": [
    {
     "data": {
      "image/png": "[encoded data removed]",
      "text/plain": [
       "<Figure size 640x480 with 1 Axes>"
      ]
     },
     "metadata": {},
     "output_type": "display_data"
    }
   ],
   "source": [
    "import matplotlib.pyplot as plt\n",
    "plt.boxplot(df['Discount Amount'],vert=False)\n",
    "plt.show()"
   ]
  },
  {
   "cell_type": "code",
   "execution_count": 115,
   "id": "69427a2d",
   "metadata": {},
   "outputs": [
    {
     "data": {
      "image/png": "[encoded data removed]",
      "text/plain": [
       "<Figure size 640x480 with 1 Axes>"
      ]
     },
     "metadata": {},
     "output_type": "display_data"
    }
   ],
   "source": [
    "import matplotlib.pyplot as plt\n",
    "plt.boxplot(df['Net Sales Value'],vert=False)\n",
    "plt.show()"
   ]
  },
  {
   "cell_type": "code",
   "execution_count": 116,
   "id": "c5da4e46",
   "metadata": {},
   "outputs": [],
   "source": [
    "import numpy as np\n",
    "from scipy.stats import iqr"
   ]
  },
  {
   "cell_type": "code",
   "execution_count": 117,
   "id": "11841c7c",
   "metadata": {},
   "outputs": [
    {
     "name": "stdout",
     "output_type": "stream",
     "text": [
      "Interquartile Range (IQR): 3.0\n",
      "Quartile Deviation: 1.5\n"
     ]
    }
   ],
   "source": [
    "#Volume Interquartile range\n",
    "# Sample dataset\n",
    "data = df['Volume']\n",
    " \n",
    "# Calculate Interquartile Range (IQR) using scipy\n",
    "iqr_value = iqr(data)\n",
    " \n",
    "# Calculate Quartile Deviation\n",
    "quartile_deviation = iqr_value / 2\n",
    " \n",
    "print(\"Interquartile Range (IQR):\", iqr_value)\n",
    "print(\"Quartile Deviation:\", quartile_deviation)"
   ]
  },
  {
   "cell_type": "code",
   "execution_count": 118,
   "id": "2e5bc97d",
   "metadata": {
    "scrolled": true
   },
   "outputs": [
    {
     "name": "stdout",
     "output_type": "stream",
     "text": [
      "Interquartile Range (IQR): 9635.0\n",
      "Quartile Deviation: 4817.5\n"
     ]
    }
   ],
   "source": [
    "#Avg Price\n",
    " \n",
    "# Sample dataset\n",
    "data = df['Avg Price']\n",
    " \n",
    "# Calculate Interquartile Range (IQR) using scipy\n",
    "iqr_value = iqr(data)\n",
    " \n",
    "# Calculate Quartile Deviation\n",
    "quartile_deviation = iqr_value / 2\n",
    " \n",
    "print(\"Interquartile Range (IQR):\", iqr_value)\n",
    "print(\"Quartile Deviation:\", quartile_deviation)"
   ]
  },
  {
   "cell_type": "code",
   "execution_count": 119,
   "id": "426bc07d",
   "metadata": {},
   "outputs": [
    {
     "name": "stdout",
     "output_type": "stream",
     "text": [
      "Interquartile Range (IQR): 50500.0\n",
      "Quartile Deviation: 25250.0\n"
     ]
    }
   ],
   "source": [
    "# Sample dataset\n",
    "data = df['Total Sales Value']\n",
    "iqr_value = iqr(data)\n",
    "quartile_deviation = iqr_value / 2\n",
    "print(\"Interquartile Range (IQR):\", iqr_value)\n",
    "print(\"Quartile Deviation:\", quartile_deviation)"
   ]
  },
  {
   "cell_type": "code",
   "execution_count": 120,
   "id": "69f46628",
   "metadata": {},
   "outputs": [
    {
     "name": "stdout",
     "output_type": "stream",
     "text": [
      "Interquartile Range (IQR): 4.149655934050962\n",
      "Quartile Deviation: 2.074827967025481\n"
     ]
    }
   ],
   "source": [
    "data = df['Discount Rate (%)']\n",
    "iqr_value = iqr(data)\n",
    "quartile_deviation = iqr_value / 2\n",
    "print(\"Interquartile Range (IQR):\", iqr_value)\n",
    "print(\"Quartile Deviation:\", quartile_deviation)"
   ]
  },
  {
   "cell_type": "code",
   "execution_count": 121,
   "id": "bee3be0b",
   "metadata": {},
   "outputs": [
    {
     "name": "stdout",
     "output_type": "stream",
     "text": [
      "Interquartile Range (IQR): 4856.03612280112\n",
      "Quartile Deviation: 2428.01806140056\n"
     ]
    }
   ],
   "source": [
    "data = df['Discount Amount']\n",
    "iqr_value = iqr(data)\n",
    "quartile_deviation = iqr_value / 2\n",
    "print(\"Interquartile Range (IQR):\", iqr_value)\n",
    "print(\"Quartile Deviation:\", quartile_deviation)"
   ]
  },
  {
   "cell_type": "code",
   "execution_count": 122,
   "id": "7f015bce",
   "metadata": {},
   "outputs": [
    {
     "name": "stdout",
     "output_type": "stream",
     "text": [
      "Interquartile Range (IQR): 45645.70420627015\n",
      "Quartile Deviation: 22822.852103135076\n"
     ]
    }
   ],
   "source": [
    "data = df['Net Sales Value']\n",
    "iqr_value = iqr(data)\n",
    "quartile_deviation = iqr_value / 2\n",
    "print(\"Interquartile Range (IQR):\", iqr_value)\n",
    "print(\"Quartile Deviation:\", quartile_deviation)"
   ]
  },
  {
   "cell_type": "code",
   "execution_count": 123,
   "id": "d577738a",
   "metadata": {},
   "outputs": [
    {
     "data": {
      "text/html": [
       "<div>\n",
       "<style scoped>\n",
       "    .dataframe tbody tr th:only-of-type {\n",
       "        vertical-align: middle;\n",
       "    }\n",
       "\n",
       "    .dataframe tbody tr th {\n",
       "        vertical-align: top;\n",
       "    }\n",
       "\n",
       "    .dataframe thead th {\n",
       "        text-align: right;\n",
       "    }\n",
       "</style>\n",
       "<table border=\"1\" class=\"dataframe\">\n",
       "  <thead>\n",
       "    <tr style=\"text-align: right;\">\n",
       "      <th></th>\n",
       "      <th>Date</th>\n",
       "      <th>Day</th>\n",
       "      <th>SKU</th>\n",
       "      <th>City</th>\n",
       "      <th>BU</th>\n",
       "      <th>Brand</th>\n",
       "      <th>Model</th>\n",
       "    </tr>\n",
       "  </thead>\n",
       "  <tbody>\n",
       "    <tr>\n",
       "      <th>0</th>\n",
       "      <td>01-04-2021</td>\n",
       "      <td>Thursday</td>\n",
       "      <td>M01</td>\n",
       "      <td>C</td>\n",
       "      <td>Mobiles</td>\n",
       "      <td>RealU</td>\n",
       "      <td>RU-10</td>\n",
       "    </tr>\n",
       "    <tr>\n",
       "      <th>1</th>\n",
       "      <td>01-04-2021</td>\n",
       "      <td>Thursday</td>\n",
       "      <td>M02</td>\n",
       "      <td>C</td>\n",
       "      <td>Mobiles</td>\n",
       "      <td>RealU</td>\n",
       "      <td>RU-9 Plus</td>\n",
       "    </tr>\n",
       "    <tr>\n",
       "      <th>2</th>\n",
       "      <td>01-04-2021</td>\n",
       "      <td>Thursday</td>\n",
       "      <td>M03</td>\n",
       "      <td>C</td>\n",
       "      <td>Mobiles</td>\n",
       "      <td>YouM</td>\n",
       "      <td>YM-99</td>\n",
       "    </tr>\n",
       "    <tr>\n",
       "      <th>3</th>\n",
       "      <td>01-04-2021</td>\n",
       "      <td>Thursday</td>\n",
       "      <td>M04</td>\n",
       "      <td>C</td>\n",
       "      <td>Mobiles</td>\n",
       "      <td>YouM</td>\n",
       "      <td>YM-99 Plus</td>\n",
       "    </tr>\n",
       "    <tr>\n",
       "      <th>4</th>\n",
       "      <td>01-04-2021</td>\n",
       "      <td>Thursday</td>\n",
       "      <td>M05</td>\n",
       "      <td>C</td>\n",
       "      <td>Mobiles</td>\n",
       "      <td>YouM</td>\n",
       "      <td>YM-98</td>\n",
       "    </tr>\n",
       "  </tbody>\n",
       "</table>\n",
       "</div>"
      ],
      "text/plain": [
       "         Date       Day  SKU City       BU  Brand       Model\n",
       "0  01-04-2021  Thursday  M01    C  Mobiles  RealU       RU-10\n",
       "1  01-04-2021  Thursday  M02    C  Mobiles  RealU   RU-9 Plus\n",
       "2  01-04-2021  Thursday  M03    C  Mobiles   YouM       YM-99\n",
       "3  01-04-2021  Thursday  M04    C  Mobiles   YouM  YM-99 Plus\n",
       "4  01-04-2021  Thursday  M05    C  Mobiles   YouM      YM-98 "
      ]
     },
     "execution_count": 123,
     "metadata": {},
     "output_type": "execute_result"
    }
   ],
   "source": [
    "df_cat.head()"
   ]
  },
  {
   "cell_type": "code",
   "execution_count": 124,
   "id": "f3c51d4e",
   "metadata": {},
   "outputs": [
    {
     "data": {
      "text/plain": [
       "Day\n",
       "Thursday     90\n",
       "Friday       60\n",
       "Saturday     60\n",
       "Sunday       60\n",
       "Monday       60\n",
       "Tuesday      60\n",
       "Wednesday    60\n",
       "Name: count, dtype: int64"
      ]
     },
     "execution_count": 124,
     "metadata": {},
     "output_type": "execute_result"
    },
    {
     "data": {
      "image/png": "[encoded data removed]",
      "text/plain": [
       "<Figure size 640x480 with 1 Axes>"
      ]
     },
     "metadata": {},
     "output_type": "display_data"
    }
   ],
   "source": [
    "df['Day'].value_counts().plot(kind='bar')\n",
    "df['Day'].value_counts()"
   ]
  },
  {
   "cell_type": "code",
   "execution_count": 125,
   "id": "d72fc1c3",
   "metadata": {},
   "outputs": [
    {
     "data": {
      "text/plain": [
       "SKU\n",
       "M01    15\n",
       "M02    15\n",
       "L09    15\n",
       "L08    15\n",
       "L07    15\n",
       "L06    15\n",
       "L05    15\n",
       "L04    15\n",
       "L03    15\n",
       "L02    15\n",
       "L01    15\n",
       "F10    15\n",
       "F09    15\n",
       "F08    15\n",
       "F07    15\n",
       "F06    15\n",
       "F05    15\n",
       "F04    15\n",
       "F03    15\n",
       "F02    15\n",
       "F01    15\n",
       "M10    15\n",
       "M09    15\n",
       "M08    15\n",
       "M07    15\n",
       "M06    15\n",
       "M05    15\n",
       "M04    15\n",
       "M03    15\n",
       "L10    15\n",
       "Name: count, dtype: int64"
      ]
     },
     "execution_count": 125,
     "metadata": {},
     "output_type": "execute_result"
    },
    {
     "data": {
      "image/png": "[encoded data removed]",
      "text/plain": [
       "<Figure size 640x480 with 1 Axes>"
      ]
     },
     "metadata": {},
     "output_type": "display_data"
    }
   ],
   "source": [
    "df['SKU'].value_counts().plot(kind='bar')\n",
    "df['SKU'].value_counts()"
   ]
  },
  {
   "cell_type": "code",
   "execution_count": 126,
   "id": "af750a1b",
   "metadata": {},
   "outputs": [
    {
     "data": {
      "text/plain": [
       "City\n",
       "C    450\n",
       "Name: count, dtype: int64"
      ]
     },
     "execution_count": 126,
     "metadata": {},
     "output_type": "execute_result"
    },
    {
     "data": {
      "image/png": "[encoded data removed]",
      "text/plain": [
       "<Figure size 640x480 with 1 Axes>"
      ]
     },
     "metadata": {},
     "output_type": "display_data"
    }
   ],
   "source": [
    "df['City'].value_counts().plot(kind='bar')\n",
    "df['City'].value_counts()"
   ]
  },
  {
   "cell_type": "code",
   "execution_count": 127,
   "id": "e56060c0",
   "metadata": {},
   "outputs": [
    {
     "data": {
      "text/plain": [
       "BU\n",
       "Mobiles      150\n",
       "FMCG         150\n",
       "Lifestyle    150\n",
       "Name: count, dtype: int64"
      ]
     },
     "execution_count": 127,
     "metadata": {},
     "output_type": "execute_result"
    },
    {
     "data": {
      "image/png": "[encoded data removed]",
      "text/plain": [
       "<Figure size 640x480 with 1 Axes>"
      ]
     },
     "metadata": {},
     "output_type": "display_data"
    }
   ],
   "source": [
    "df['BU'].value_counts().plot(kind='bar')\n",
    "df['BU'].value_counts()"
   ]
  },
  {
   "cell_type": "code",
   "execution_count": 128,
   "id": "a720db98",
   "metadata": {},
   "outputs": [
    {
     "data": {
      "text/plain": [
       "Brand\n",
       "Jeera      90\n",
       "Gear       60\n",
       "Viva       60\n",
       "RealU      45\n",
       "YouM       45\n",
       "Babaji     45\n",
       "Vedic      45\n",
       "Sumsang    30\n",
       "Orange     30\n",
       "Name: count, dtype: int64"
      ]
     },
     "execution_count": 128,
     "metadata": {},
     "output_type": "execute_result"
    },
    {
     "data": {
      "image/png": "[encoded data removed]",
      "text/plain": [
       "<Figure size 640x480 with 1 Axes>"
      ]
     },
     "metadata": {},
     "output_type": "display_data"
    }
   ],
   "source": [
    "df['Brand'].value_counts().plot(kind='bar')\n",
    "df['Brand'].value_counts()"
   ]
  },
  {
   "cell_type": "code",
   "execution_count": 129,
   "id": "86db0155",
   "metadata": {},
   "outputs": [
    {
     "data": {
      "text/plain": [
       "Model\n",
       "RU-10             15\n",
       "RU-9 Plus         15\n",
       "M-Formals         15\n",
       "W-Lounge          15\n",
       "W-Western         15\n",
       "M-Casuals         15\n",
       "M-Jeans           15\n",
       "W-Inners          15\n",
       "W-Casuals         15\n",
       "M- Inners         15\n",
       "M- T Shirts       15\n",
       "Gear BB Cream     15\n",
       "Gear Shampoo      15\n",
       "Gear Cream        15\n",
       "Gear Oil          15\n",
       "Vedic Oil         15\n",
       "Babaji Cream      15\n",
       "Babaji Shampoo    15\n",
       "Vedic Shampoo     15\n",
       "Vedic Cream       15\n",
       "Babaji Oil        15\n",
       "O-11              15\n",
       "O-10              15\n",
       "S-21              15\n",
       "S-20              15\n",
       "RU-9              15\n",
       "YM-98             15\n",
       "YM-99 Plus        15\n",
       "YM-99             15\n",
       "M-Shoes           15\n",
       "Name: count, dtype: int64"
      ]
     },
     "execution_count": 129,
     "metadata": {},
     "output_type": "execute_result"
    },
    {
     "data": {
      "image/png": "[encoded data removed]",
      "text/plain": [
       "<Figure size 640x480 with 1 Axes>"
      ]
     },
     "metadata": {},
     "output_type": "display_data"
    }
   ],
   "source": [
    "df['Model'].value_counts().plot(kind='bar')\n",
    "df['Model'].value_counts()"
   ]
  },
  {
   "cell_type": "code",
   "execution_count": 130,
   "id": "d61054d7",
   "metadata": {},
   "outputs": [
    {
     "name": "stdout",
     "output_type": "stream",
     "text": [
      "<class 'pandas.core.frame.DataFrame'>\n",
      "RangeIndex: 450 entries, 0 to 449\n",
      "Data columns (total 13 columns):\n",
      " #   Column             Non-Null Count  Dtype  \n",
      "---  ------             --------------  -----  \n",
      " 0   Date               450 non-null    object \n",
      " 1   Day                450 non-null    object \n",
      " 2   SKU                450 non-null    object \n",
      " 3   City               450 non-null    object \n",
      " 4   Volume             450 non-null    int64  \n",
      " 5   BU                 450 non-null    object \n",
      " 6   Brand              450 non-null    object \n",
      " 7   Model              450 non-null    object \n",
      " 8   Avg Price          450 non-null    int64  \n",
      " 9   Total Sales Value  450 non-null    int64  \n",
      " 10  Discount Rate (%)  450 non-null    float64\n",
      " 11  Discount Amount    450 non-null    float64\n",
      " 12  Net Sales Value    450 non-null    float64\n",
      "dtypes: float64(3), int64(3), object(7)\n",
      "memory usage: 45.8+ KB\n"
     ]
    }
   ],
   "source": [
    "df.info()"
   ]
  },
  {
   "cell_type": "code",
   "execution_count": 131,
   "id": "0f58f073",
   "metadata": {},
   "outputs": [
    {
     "data": {
      "text/html": [
       "<div>\n",
       "<style scoped>\n",
       "    .dataframe tbody tr th:only-of-type {\n",
       "        vertical-align: middle;\n",
       "    }\n",
       "\n",
       "    .dataframe tbody tr th {\n",
       "        vertical-align: top;\n",
       "    }\n",
       "\n",
       "    .dataframe thead th {\n",
       "        text-align: right;\n",
       "    }\n",
       "</style>\n",
       "<table border=\"1\" class=\"dataframe\">\n",
       "  <thead>\n",
       "    <tr style=\"text-align: right;\">\n",
       "      <th></th>\n",
       "      <th>Avg Price</th>\n",
       "      <th>Total Sales Value</th>\n",
       "      <th>Discount Rate (%)</th>\n",
       "      <th>Discount Amount</th>\n",
       "      <th>Net Sales Value</th>\n",
       "    </tr>\n",
       "  </thead>\n",
       "  <tbody>\n",
       "    <tr>\n",
       "      <th>0</th>\n",
       "      <td>0.091173</td>\n",
       "      <td>2.925721</td>\n",
       "      <td>-0.830289</td>\n",
       "      <td>3.952816</td>\n",
       "      <td>2.804756</td>\n",
       "    </tr>\n",
       "    <tr>\n",
       "      <th>1</th>\n",
       "      <td>-0.019570</td>\n",
       "      <td>1.330995</td>\n",
       "      <td>-0.852661</td>\n",
       "      <td>1.849014</td>\n",
       "      <td>1.271026</td>\n",
       "    </tr>\n",
       "    <tr>\n",
       "      <th>2</th>\n",
       "      <td>0.312659</td>\n",
       "      <td>1.562775</td>\n",
       "      <td>-1.351631</td>\n",
       "      <td>1.622995</td>\n",
       "      <td>1.545675</td>\n",
       "    </tr>\n",
       "    <tr>\n",
       "      <th>3</th>\n",
       "      <td>0.534146</td>\n",
       "      <td>1.719276</td>\n",
       "      <td>-1.949723</td>\n",
       "      <td>1.113807</td>\n",
       "      <td>1.765810</td>\n",
       "    </tr>\n",
       "    <tr>\n",
       "      <th>4</th>\n",
       "      <td>-0.130313</td>\n",
       "      <td>-0.188452</td>\n",
       "      <td>0.673739</td>\n",
       "      <td>0.227852</td>\n",
       "      <td>-0.227595</td>\n",
       "    </tr>\n",
       "  </tbody>\n",
       "</table>\n",
       "</div>"
      ],
      "text/plain": [
       "   Avg Price  Total Sales Value  Discount Rate (%)  Discount Amount  \\\n",
       "0   0.091173           2.925721          -0.830289         3.952816   \n",
       "1  -0.019570           1.330995          -0.852661         1.849014   \n",
       "2   0.312659           1.562775          -1.351631         1.622995   \n",
       "3   0.534146           1.719276          -1.949723         1.113807   \n",
       "4  -0.130313          -0.188452           0.673739         0.227852   \n",
       "\n",
       "   Net Sales Value  \n",
       "0         2.804756  \n",
       "1         1.271026  \n",
       "2         1.545675  \n",
       "3         1.765810  \n",
       "4        -0.227595  "
      ]
     },
     "execution_count": 131,
     "metadata": {},
     "output_type": "execute_result"
    }
   ],
   "source": [
    "#standardization of numerical variables\n",
    "\"\"\"\n",
    "Standardization is a method of feature scaling in which data values are rescaled to fit the distribution between \n",
    "0 and 1 using mean and standard deviation as the base to find specific values. The distance between data points\n",
    "is then used for plotting similarities and differences\n",
    "\"\"\"\n",
    "from sklearn.preprocessing import StandardScaler\n",
    "SS = StandardScaler()\n",
    "SS_X = SS.fit_transform(df_num)\n",
    "SS_X = pd.DataFrame(SS_X)\n",
    "SS_X.columns = df_num.columns\n",
    "SS_X.head()"
   ]
  },
  {
   "cell_type": "code",
   "execution_count": 140,
   "id": "24dedb61",
   "metadata": {},
   "outputs": [
    {
     "data": {
      "text/html": [
       "<div>\n",
       "<style scoped>\n",
       "    .dataframe tbody tr th:only-of-type {\n",
       "        vertical-align: middle;\n",
       "    }\n",
       "\n",
       "    .dataframe tbody tr th {\n",
       "        vertical-align: top;\n",
       "    }\n",
       "\n",
       "    .dataframe thead th {\n",
       "        text-align: right;\n",
       "    }\n",
       "</style>\n",
       "<table border=\"1\" class=\"dataframe\">\n",
       "  <thead>\n",
       "    <tr style=\"text-align: right;\">\n",
       "      <th></th>\n",
       "      <th>Date</th>\n",
       "      <th>Day</th>\n",
       "      <th>SKU</th>\n",
       "      <th>City</th>\n",
       "      <th>BU</th>\n",
       "      <th>Brand</th>\n",
       "      <th>Model</th>\n",
       "    </tr>\n",
       "  </thead>\n",
       "  <tbody>\n",
       "    <tr>\n",
       "      <th>0</th>\n",
       "      <td>01-04-2021</td>\n",
       "      <td>Thursday</td>\n",
       "      <td>M01</td>\n",
       "      <td>C</td>\n",
       "      <td>Mobiles</td>\n",
       "      <td>RealU</td>\n",
       "      <td>RU-10</td>\n",
       "    </tr>\n",
       "    <tr>\n",
       "      <th>1</th>\n",
       "      <td>01-04-2021</td>\n",
       "      <td>Thursday</td>\n",
       "      <td>M02</td>\n",
       "      <td>C</td>\n",
       "      <td>Mobiles</td>\n",
       "      <td>RealU</td>\n",
       "      <td>RU-9 Plus</td>\n",
       "    </tr>\n",
       "    <tr>\n",
       "      <th>2</th>\n",
       "      <td>01-04-2021</td>\n",
       "      <td>Thursday</td>\n",
       "      <td>M03</td>\n",
       "      <td>C</td>\n",
       "      <td>Mobiles</td>\n",
       "      <td>YouM</td>\n",
       "      <td>YM-99</td>\n",
       "    </tr>\n",
       "    <tr>\n",
       "      <th>3</th>\n",
       "      <td>01-04-2021</td>\n",
       "      <td>Thursday</td>\n",
       "      <td>M04</td>\n",
       "      <td>C</td>\n",
       "      <td>Mobiles</td>\n",
       "      <td>YouM</td>\n",
       "      <td>YM-99 Plus</td>\n",
       "    </tr>\n",
       "    <tr>\n",
       "      <th>4</th>\n",
       "      <td>01-04-2021</td>\n",
       "      <td>Thursday</td>\n",
       "      <td>M05</td>\n",
       "      <td>C</td>\n",
       "      <td>Mobiles</td>\n",
       "      <td>YouM</td>\n",
       "      <td>YM-98</td>\n",
       "    </tr>\n",
       "  </tbody>\n",
       "</table>\n",
       "</div>"
      ],
      "text/plain": [
       "         Date       Day  SKU City       BU  Brand       Model\n",
       "0  01-04-2021  Thursday  M01    C  Mobiles  RealU       RU-10\n",
       "1  01-04-2021  Thursday  M02    C  Mobiles  RealU   RU-9 Plus\n",
       "2  01-04-2021  Thursday  M03    C  Mobiles   YouM       YM-99\n",
       "3  01-04-2021  Thursday  M04    C  Mobiles   YouM  YM-99 Plus\n",
       "4  01-04-2021  Thursday  M05    C  Mobiles   YouM      YM-98 "
      ]
     },
     "execution_count": 140,
     "metadata": {},
     "output_type": "execute_result"
    }
   ],
   "source": [
    "#One hot Encoding (categorical Variables)\n",
    "df_cat.head()"
   ]
  },
  {
   "cell_type": "code",
   "execution_count": 141,
   "id": "173a0bfd",
   "metadata": {},
   "outputs": [
    {
     "data": {
      "text/plain": [
       "array(['01-04-2021', '02-04-2021', '03-04-2021', '04-04-2021',\n",
       "       '05-04-2021', '06-04-2021', '07-04-2021', '08-04-2021',\n",
       "       '09-04-2021', '10-04-2021', '11-04-2021', '12-04-2021',\n",
       "       '13-04-2021', '14-04-2021', '15-04-2021'], dtype=object)"
      ]
     },
     "execution_count": 141,
     "metadata": {},
     "output_type": "execute_result"
    }
   ],
   "source": [
    "df['Date'].unique()"
   ]
  },
  {
   "cell_type": "code",
   "execution_count": null,
   "id": "3422cbdc",
   "metadata": {},
   "outputs": [],
   "source": [
    "#Discuss the need of converting categorical data into\n",
    "\"\"\"Categorical data, often represented as strings or labels, cannot be directly used in many machine learning algorithms. \n",
    " These algorithms typically require numerical input. \n",
    "\n",
    " Dummy variables (also known as one-hot encoding) address this by converting each category within a categorical feature \n",
    " into a new binary feature (0 or 1). \n",
    "\n",
    " For instance, a \"Color\" feature with categories \"Red,\" \"Green,\" and \"Blue\" would be transformed into three binary features: \n",
    " \"Color_Red,\" \"Color_Green,\" and \"Color_Blue.\" \n",
    "\n",
    " If an observation has the color \"Red,\" the \"Color_Red\" feature would be 1, and the others would be 0.\n",
    "\n",
    " Key reasons for using dummy variables:\n",
    "\n",
    " 1. Numerical Representation: Enables machine learning algorithms to process categorical data.\n",
    "\n",
    " 2. Avoiding Ordinality: Prevents the algorithm from misinterpreting categories as having an inherent order when they don't \n",
    " (e.g., \"Red\" being greater than \"Green\").\n",
    "\n",
    " 3. Capturing Relationships: Allows the model to learn separate effects for each category, capturing potential unique \n",
    " relationships between categories and the target variable.\n",
    "\n",
    " In essence, dummy variables bridge the gap between categorical data and the numerical requirements of machine learning models\"\"\"\n"
   ]
  },
  {
   "cell_type": "code",
   "execution_count": 156,
   "id": "94bdc582",
   "metadata": {},
   "outputs": [
    {
     "data": {
      "text/html": [
       "<div>\n",
       "<style scoped>\n",
       "    .dataframe tbody tr th:only-of-type {\n",
       "        vertical-align: middle;\n",
       "    }\n",
       "\n",
       "    .dataframe tbody tr th {\n",
       "        vertical-align: top;\n",
       "    }\n",
       "\n",
       "    .dataframe thead th {\n",
       "        text-align: right;\n",
       "    }\n",
       "</style>\n",
       "<table border=\"1\" class=\"dataframe\">\n",
       "  <thead>\n",
       "    <tr style=\"text-align: right;\">\n",
       "      <th></th>\n",
       "      <th>Date_01-04-2021_False</th>\n",
       "      <th>Date_01-04-2021_True</th>\n",
       "      <th>Date_02-04-2021_False</th>\n",
       "      <th>Date_02-04-2021_True</th>\n",
       "      <th>Date_03-04-2021_False</th>\n",
       "      <th>Date_03-04-2021_True</th>\n",
       "      <th>Date_04-04-2021_False</th>\n",
       "      <th>Date_04-04-2021_True</th>\n",
       "      <th>Date_05-04-2021_False</th>\n",
       "      <th>Date_05-04-2021_True</th>\n",
       "      <th>...</th>\n",
       "      <th>Model_W-Lounge_False</th>\n",
       "      <th>Model_W-Lounge_True</th>\n",
       "      <th>Model_W-Western_False</th>\n",
       "      <th>Model_W-Western_True</th>\n",
       "      <th>Model_YM-98 _False</th>\n",
       "      <th>Model_YM-98 _True</th>\n",
       "      <th>Model_YM-99_False</th>\n",
       "      <th>Model_YM-99_True</th>\n",
       "      <th>Model_YM-99 Plus_False</th>\n",
       "      <th>Model_YM-99 Plus_True</th>\n",
       "    </tr>\n",
       "  </thead>\n",
       "  <tbody>\n",
       "    <tr>\n",
       "      <th>0</th>\n",
       "      <td>0.0</td>\n",
       "      <td>1.0</td>\n",
       "      <td>1.0</td>\n",
       "      <td>0.0</td>\n",
       "      <td>1.0</td>\n",
       "      <td>0.0</td>\n",
       "      <td>1.0</td>\n",
       "      <td>0.0</td>\n",
       "      <td>1.0</td>\n",
       "      <td>0.0</td>\n",
       "      <td>...</td>\n",
       "      <td>1.0</td>\n",
       "      <td>0.0</td>\n",
       "      <td>1.0</td>\n",
       "      <td>0.0</td>\n",
       "      <td>1.0</td>\n",
       "      <td>0.0</td>\n",
       "      <td>1.0</td>\n",
       "      <td>0.0</td>\n",
       "      <td>1.0</td>\n",
       "      <td>0.0</td>\n",
       "    </tr>\n",
       "    <tr>\n",
       "      <th>1</th>\n",
       "      <td>0.0</td>\n",
       "      <td>1.0</td>\n",
       "      <td>1.0</td>\n",
       "      <td>0.0</td>\n",
       "      <td>1.0</td>\n",
       "      <td>0.0</td>\n",
       "      <td>1.0</td>\n",
       "      <td>0.0</td>\n",
       "      <td>1.0</td>\n",
       "      <td>0.0</td>\n",
       "      <td>...</td>\n",
       "      <td>1.0</td>\n",
       "      <td>0.0</td>\n",
       "      <td>1.0</td>\n",
       "      <td>0.0</td>\n",
       "      <td>1.0</td>\n",
       "      <td>0.0</td>\n",
       "      <td>1.0</td>\n",
       "      <td>0.0</td>\n",
       "      <td>1.0</td>\n",
       "      <td>0.0</td>\n",
       "    </tr>\n",
       "    <tr>\n",
       "      <th>2</th>\n",
       "      <td>0.0</td>\n",
       "      <td>1.0</td>\n",
       "      <td>1.0</td>\n",
       "      <td>0.0</td>\n",
       "      <td>1.0</td>\n",
       "      <td>0.0</td>\n",
       "      <td>1.0</td>\n",
       "      <td>0.0</td>\n",
       "      <td>1.0</td>\n",
       "      <td>0.0</td>\n",
       "      <td>...</td>\n",
       "      <td>1.0</td>\n",
       "      <td>0.0</td>\n",
       "      <td>1.0</td>\n",
       "      <td>0.0</td>\n",
       "      <td>1.0</td>\n",
       "      <td>0.0</td>\n",
       "      <td>0.0</td>\n",
       "      <td>1.0</td>\n",
       "      <td>1.0</td>\n",
       "      <td>0.0</td>\n",
       "    </tr>\n",
       "    <tr>\n",
       "      <th>3</th>\n",
       "      <td>0.0</td>\n",
       "      <td>1.0</td>\n",
       "      <td>1.0</td>\n",
       "      <td>0.0</td>\n",
       "      <td>1.0</td>\n",
       "      <td>0.0</td>\n",
       "      <td>1.0</td>\n",
       "      <td>0.0</td>\n",
       "      <td>1.0</td>\n",
       "      <td>0.0</td>\n",
       "      <td>...</td>\n",
       "      <td>1.0</td>\n",
       "      <td>0.0</td>\n",
       "      <td>1.0</td>\n",
       "      <td>0.0</td>\n",
       "      <td>1.0</td>\n",
       "      <td>0.0</td>\n",
       "      <td>1.0</td>\n",
       "      <td>0.0</td>\n",
       "      <td>0.0</td>\n",
       "      <td>1.0</td>\n",
       "    </tr>\n",
       "    <tr>\n",
       "      <th>4</th>\n",
       "      <td>0.0</td>\n",
       "      <td>1.0</td>\n",
       "      <td>1.0</td>\n",
       "      <td>0.0</td>\n",
       "      <td>1.0</td>\n",
       "      <td>0.0</td>\n",
       "      <td>1.0</td>\n",
       "      <td>0.0</td>\n",
       "      <td>1.0</td>\n",
       "      <td>0.0</td>\n",
       "      <td>...</td>\n",
       "      <td>1.0</td>\n",
       "      <td>0.0</td>\n",
       "      <td>1.0</td>\n",
       "      <td>0.0</td>\n",
       "      <td>0.0</td>\n",
       "      <td>1.0</td>\n",
       "      <td>1.0</td>\n",
       "      <td>0.0</td>\n",
       "      <td>1.0</td>\n",
       "      <td>0.0</td>\n",
       "    </tr>\n",
       "  </tbody>\n",
       "</table>\n",
       "<p>5 rows × 189 columns</p>\n",
       "</div>"
      ],
      "text/plain": [
       "   Date_01-04-2021_False  Date_01-04-2021_True  Date_02-04-2021_False  \\\n",
       "0                    0.0                   1.0                    1.0   \n",
       "1                    0.0                   1.0                    1.0   \n",
       "2                    0.0                   1.0                    1.0   \n",
       "3                    0.0                   1.0                    1.0   \n",
       "4                    0.0                   1.0                    1.0   \n",
       "\n",
       "   Date_02-04-2021_True  Date_03-04-2021_False  Date_03-04-2021_True  \\\n",
       "0                   0.0                    1.0                   0.0   \n",
       "1                   0.0                    1.0                   0.0   \n",
       "2                   0.0                    1.0                   0.0   \n",
       "3                   0.0                    1.0                   0.0   \n",
       "4                   0.0                    1.0                   0.0   \n",
       "\n",
       "   Date_04-04-2021_False  Date_04-04-2021_True  Date_05-04-2021_False  \\\n",
       "0                    1.0                   0.0                    1.0   \n",
       "1                    1.0                   0.0                    1.0   \n",
       "2                    1.0                   0.0                    1.0   \n",
       "3                    1.0                   0.0                    1.0   \n",
       "4                    1.0                   0.0                    1.0   \n",
       "\n",
       "   Date_05-04-2021_True  ...  Model_W-Lounge_False  Model_W-Lounge_True  \\\n",
       "0                   0.0  ...                   1.0                  0.0   \n",
       "1                   0.0  ...                   1.0                  0.0   \n",
       "2                   0.0  ...                   1.0                  0.0   \n",
       "3                   0.0  ...                   1.0                  0.0   \n",
       "4                   0.0  ...                   1.0                  0.0   \n",
       "\n",
       "   Model_W-Western_False  Model_W-Western_True  Model_YM-98 _False  \\\n",
       "0                    1.0                   0.0                 1.0   \n",
       "1                    1.0                   0.0                 1.0   \n",
       "2                    1.0                   0.0                 1.0   \n",
       "3                    1.0                   0.0                 1.0   \n",
       "4                    1.0                   0.0                 0.0   \n",
       "\n",
       "   Model_YM-98 _True  Model_YM-99_False  Model_YM-99_True  \\\n",
       "0                0.0                1.0               0.0   \n",
       "1                0.0                1.0               0.0   \n",
       "2                0.0                0.0               1.0   \n",
       "3                0.0                1.0               0.0   \n",
       "4                1.0                1.0               0.0   \n",
       "\n",
       "   Model_YM-99 Plus_False  Model_YM-99 Plus_True  \n",
       "0                     1.0                    0.0  \n",
       "1                     1.0                    0.0  \n",
       "2                     1.0                    0.0  \n",
       "3                     0.0                    1.0  \n",
       "4                     1.0                    0.0  \n",
       "\n",
       "[5 rows x 189 columns]"
      ]
     },
     "execution_count": 156,
     "metadata": {},
     "output_type": "execute_result"
    }
   ],
   "source": [
    "import pandas as pd\n",
    "from sklearn.preprocessing import OneHotEncoder\n",
    "\n",
    "# Step 1: Create Dummy Variables\n",
    "df_cat_dummies = pd.get_dummies(df_cat)\n",
    "\n",
    "# Step 2: Apply One-Hot Encoding \n",
    "ohe = OneHotEncoder(sparse_output=False, handle_unknown='ignore')\n",
    "df_cat_encoded = ohe.fit_transform(df_cat_dummies)  # Apply to the dummy DataFrame\n",
    "\n",
    "# Get feature names and create DataFrame\n",
    "feature_names = ohe.get_feature_names_out(df_cat_dummies.columns)\n",
    "df_cat_encoded_df = pd.DataFrame(df_cat_encoded, columns=feature_names)\n",
    "\n",
    "df_cat_encoded_df.head()"
   ]
  },
  {
   "cell_type": "code",
   "execution_count": 157,
   "id": "294075d8",
   "metadata": {},
   "outputs": [
    {
     "data": {
      "text/plain": [
       "'\\n1. After importng the data set have explored the data through bars, graphs and charts got a good understading of the data\\nand also after importing the data have checked for the info to check if there are any missing values. Also the what \\nkind of data is present in the dataset. Is it int64,float64 or object.\\n\\nThen have seperated numerical columns and categorical columns and have performed histograms and boxplots on the \\nnumerical data and bar graphs on the categorical columns \\n\\nApplied Standardization on numerical columns and One Hot Encoding on the categorical columns but before one hot encoding \\nhave dummied all the categorical columns and performed one hot encoding\\n'"
      ]
     },
     "execution_count": 157,
     "metadata": {},
     "output_type": "execute_result"
    }
   ],
   "source": [
    "#conclusion\n",
    "\"\"\"\n",
    "1. After importng the data set have explored the data through bars, graphs and charts got a good understading of the data\n",
    "and also after importing the data have checked for the info to check if there are any missing values. Also the what \n",
    "kind of data is present in the dataset. Is it int64,float64 or object.\n",
    "\n",
    "Then have seperated numerical columns and categorical columns and have performed histograms and boxplots on the \n",
    "numerical data and bar graphs on the categorical columns \n",
    "\n",
    "Applied Standardization on numerical columns and One Hot Encoding on the categorical columns but before one hot encoding \n",
    "have dummied all the categorical columns and performed one hot encoding\n",
    "\"\"\""
   ]
  },
  {
   "cell_type": "code",
   "execution_count": null,
   "id": "df70f639",
   "metadata": {},
   "outputs": [],
   "source": [
    "\"\"\"\n",
    "2.Standardization\n",
    "Making Data Comparable: Imagine you have data on people’s heights and weights. Heights are in centimeters, and \n",
    "weights are in kilograms. Standardization helps put these different measurements on the same scale, making it\n",
    "easier to compare and analyze them.\n",
    "Better Model Performance: Some machine learning models work better when the data is standardized. It helps the \n",
    "models learn faster and more accurately.\n",
    "\n",
    "One-Hot Encoding\n",
    "Handling Categories: If you have a column with categories like “red,” “blue,” and “green,” one-hot encoding turns \n",
    "these into separate columns with 1s and 0s. This way, the model can understand and use this information.\n",
    "Avoiding Misinterpretation: Unlike just assigning numbers to categories (like 1 for red, 2 for blue), one-hot \n",
    "encoding ensures the model doesn’t think there’s an order or ranking among the categories.\n",
    "\"\"\""
   ]
  }
 ],
 "metadata": {
  "kernelspec": {
   "display_name": "Python 3 (ipykernel)",
   "language": "python",
   "name": "python3"
  },
  "language_info": {
   "codemirror_mode": {
    "name": "ipython",
    "version": 3
   },
   "file_extension": ".py",
   "mimetype": "text/x-python",
   "name": "python",
   "nbconvert_exporter": "python",
   "pygments_lexer": "ipython3",
   "version": "3.11.7"
  }
 },
 "nbformat": 4,
 "nbformat_minor": 5
}
